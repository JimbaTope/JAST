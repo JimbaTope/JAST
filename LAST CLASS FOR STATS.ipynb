{
 "cells": [
  {
   "cell_type": "code",
   "execution_count": 1,
   "id": "b16f5d89",
   "metadata": {},
   "outputs": [],
   "source": [
    "import pandas as pd\n",
    "import numpy as np"
   ]
  },
  {
   "cell_type": "code",
   "execution_count": 4,
   "id": "3c1096dd",
   "metadata": {},
   "outputs": [],
   "source": [
    "df=pd.read_csv(\"appdata10-1.csv\")"
   ]
  },
  {
   "cell_type": "code",
   "execution_count": 10,
   "id": "dbd004fb",
   "metadata": {},
   "outputs": [
    {
     "data": {
      "text/html": [
       "<div>\n",
       "<style scoped>\n",
       "    .dataframe tbody tr th:only-of-type {\n",
       "        vertical-align: middle;\n",
       "    }\n",
       "\n",
       "    .dataframe tbody tr th {\n",
       "        vertical-align: top;\n",
       "    }\n",
       "\n",
       "    .dataframe thead th {\n",
       "        text-align: right;\n",
       "    }\n",
       "</style>\n",
       "<table border=\"1\" class=\"dataframe\">\n",
       "  <thead>\n",
       "    <tr style=\"text-align: right;\">\n",
       "      <th></th>\n",
       "      <th>user</th>\n",
       "      <th>first_open</th>\n",
       "      <th>dayofweek</th>\n",
       "      <th>hour</th>\n",
       "      <th>age</th>\n",
       "      <th>screen_list</th>\n",
       "      <th>numscreens</th>\n",
       "      <th>minigame</th>\n",
       "      <th>used_premium_feature</th>\n",
       "      <th>enrolled</th>\n",
       "      <th>enrolled_date</th>\n",
       "      <th>liked</th>\n",
       "    </tr>\n",
       "  </thead>\n",
       "  <tbody>\n",
       "    <tr>\n",
       "      <th>49995</th>\n",
       "      <td>222774</td>\n",
       "      <td>2013-05-09 13:46:17.871</td>\n",
       "      <td>3</td>\n",
       "      <td>13:00:00</td>\n",
       "      <td>32</td>\n",
       "      <td>Splash,Home,ScanPreview,VerifyPhone,VerifySSN,...</td>\n",
       "      <td>13</td>\n",
       "      <td>0</td>\n",
       "      <td>0</td>\n",
       "      <td>1</td>\n",
       "      <td>2013-05-09 13:47:52.875</td>\n",
       "      <td>0</td>\n",
       "    </tr>\n",
       "    <tr>\n",
       "      <th>49996</th>\n",
       "      <td>169179</td>\n",
       "      <td>2013-04-09 00:05:17.823</td>\n",
       "      <td>1</td>\n",
       "      <td>00:00:00</td>\n",
       "      <td>35</td>\n",
       "      <td>Cycle,Splash,Home,RewardsContainer</td>\n",
       "      <td>4</td>\n",
       "      <td>0</td>\n",
       "      <td>1</td>\n",
       "      <td>0</td>\n",
       "      <td>NaN</td>\n",
       "      <td>0</td>\n",
       "    </tr>\n",
       "    <tr>\n",
       "      <th>49997</th>\n",
       "      <td>302367</td>\n",
       "      <td>2013-02-20 22:41:51.165</td>\n",
       "      <td>2</td>\n",
       "      <td>22:00:00</td>\n",
       "      <td>39</td>\n",
       "      <td>joinscreen,product_review,product_review2,Scan...</td>\n",
       "      <td>25</td>\n",
       "      <td>0</td>\n",
       "      <td>0</td>\n",
       "      <td>0</td>\n",
       "      <td>NaN</td>\n",
       "      <td>0</td>\n",
       "    </tr>\n",
       "    <tr>\n",
       "      <th>49998</th>\n",
       "      <td>324905</td>\n",
       "      <td>2013-04-28 12:33:04.288</td>\n",
       "      <td>6</td>\n",
       "      <td>12:00:00</td>\n",
       "      <td>27</td>\n",
       "      <td>Cycle,Home,product_review,product_review,produ...</td>\n",
       "      <td>26</td>\n",
       "      <td>0</td>\n",
       "      <td>0</td>\n",
       "      <td>1</td>\n",
       "      <td>2013-04-28 12:35:38.709</td>\n",
       "      <td>0</td>\n",
       "    </tr>\n",
       "    <tr>\n",
       "      <th>49999</th>\n",
       "      <td>27047</td>\n",
       "      <td>2012-12-14 01:22:44.638</td>\n",
       "      <td>4</td>\n",
       "      <td>01:00:00</td>\n",
       "      <td>25</td>\n",
       "      <td>product_review,ScanPreview,VerifyDateOfBirth,V...</td>\n",
       "      <td>26</td>\n",
       "      <td>0</td>\n",
       "      <td>0</td>\n",
       "      <td>0</td>\n",
       "      <td>NaN</td>\n",
       "      <td>1</td>\n",
       "    </tr>\n",
       "  </tbody>\n",
       "</table>\n",
       "</div>"
      ],
      "text/plain": [
       "         user               first_open  dayofweek       hour  age  \\\n",
       "49995  222774  2013-05-09 13:46:17.871          3   13:00:00   32   \n",
       "49996  169179  2013-04-09 00:05:17.823          1   00:00:00   35   \n",
       "49997  302367  2013-02-20 22:41:51.165          2   22:00:00   39   \n",
       "49998  324905  2013-04-28 12:33:04.288          6   12:00:00   27   \n",
       "49999   27047  2012-12-14 01:22:44.638          4   01:00:00   25   \n",
       "\n",
       "                                             screen_list  numscreens  \\\n",
       "49995  Splash,Home,ScanPreview,VerifyPhone,VerifySSN,...          13   \n",
       "49996                 Cycle,Splash,Home,RewardsContainer           4   \n",
       "49997  joinscreen,product_review,product_review2,Scan...          25   \n",
       "49998  Cycle,Home,product_review,product_review,produ...          26   \n",
       "49999  product_review,ScanPreview,VerifyDateOfBirth,V...          26   \n",
       "\n",
       "       minigame  used_premium_feature  enrolled            enrolled_date  \\\n",
       "49995         0                     0         1  2013-05-09 13:47:52.875   \n",
       "49996         0                     1         0                      NaN   \n",
       "49997         0                     0         0                      NaN   \n",
       "49998         0                     0         1  2013-04-28 12:35:38.709   \n",
       "49999         0                     0         0                      NaN   \n",
       "\n",
       "       liked  \n",
       "49995      0  \n",
       "49996      0  \n",
       "49997      0  \n",
       "49998      0  \n",
       "49999      1  "
      ]
     },
     "execution_count": 10,
     "metadata": {},
     "output_type": "execute_result"
    }
   ],
   "source": [
    "df.tail()"
   ]
  },
  {
   "cell_type": "markdown",
   "id": "1f287c2a",
   "metadata": {},
   "source": [
    "## VARIANCE, STANDARD DEVIATION AND INTER-QUARTILE RANGE"
   ]
  },
  {
   "cell_type": "code",
   "execution_count": 8,
   "id": "fc2a770c",
   "metadata": {},
   "outputs": [
    {
     "data": {
      "text/plain": [
       "116.7115168207378"
      ]
     },
     "execution_count": 8,
     "metadata": {},
     "output_type": "execute_result"
    }
   ],
   "source": [
    "df['age'].var()"
   ]
  },
  {
   "cell_type": "code",
   "execution_count": 11,
   "id": "cf56dbd3",
   "metadata": {},
   "outputs": [
    {
     "data": {
      "text/plain": [
       "10.80331045655626"
      ]
     },
     "execution_count": 11,
     "metadata": {},
     "output_type": "execute_result"
    }
   ],
   "source": [
    "df['age'].std()"
   ]
  },
  {
   "cell_type": "code",
   "execution_count": 13,
   "id": "8d051421",
   "metadata": {},
   "outputs": [],
   "source": [
    "q3,q1=np.percentile(df['age'],[75,25])"
   ]
  },
  {
   "cell_type": "code",
   "execution_count": 15,
   "id": "2d2df469",
   "metadata": {},
   "outputs": [
    {
     "data": {
      "text/plain": [
       "37.0"
      ]
     },
     "execution_count": 15,
     "metadata": {},
     "output_type": "execute_result"
    }
   ],
   "source": [
    "q3"
   ]
  },
  {
   "cell_type": "code",
   "execution_count": 17,
   "id": "5e3b21be",
   "metadata": {},
   "outputs": [
    {
     "data": {
      "text/plain": [
       "24.0"
      ]
     },
     "execution_count": 17,
     "metadata": {},
     "output_type": "execute_result"
    }
   ],
   "source": [
    "q1"
   ]
  },
  {
   "cell_type": "code",
   "execution_count": 19,
   "id": "8e5b9531",
   "metadata": {},
   "outputs": [
    {
     "data": {
      "text/plain": [
       "13.0"
      ]
     },
     "execution_count": 19,
     "metadata": {},
     "output_type": "execute_result"
    }
   ],
   "source": [
    "q3-q1"
   ]
  },
  {
   "cell_type": "code",
   "execution_count": 34,
   "id": "a71d49cf",
   "metadata": {},
   "outputs": [
    {
     "name": "stdout",
     "output_type": "stream",
     "text": [
      "[1, 2, 3, 4, 5, 6, 7, 8, 9, 10, 11, 12, 13, 14, 15, 16, 17, 18, 19, 20, 21, 22, 23, 24, 25, 26, 27, 28, 29]\n"
     ]
    }
   ],
   "source": [
    "a=list(range(1,30))\n",
    "print(a)\n",
    "p1=np.percentile(a,50)"
   ]
  },
  {
   "cell_type": "code",
   "execution_count": 35,
   "id": "101abf4f",
   "metadata": {},
   "outputs": [
    {
     "data": {
      "text/plain": [
       "15.0"
      ]
     },
     "execution_count": 35,
     "metadata": {},
     "output_type": "execute_result"
    }
   ],
   "source": [
    "p1"
   ]
  },
  {
   "cell_type": "code",
   "execution_count": 37,
   "id": "0bfd8941",
   "metadata": {},
   "outputs": [
    {
     "data": {
      "text/plain": [
       "22.0"
      ]
     },
     "execution_count": 37,
     "metadata": {},
     "output_type": "execute_result"
    }
   ],
   "source": [
    "p1=np.percentile(a,75)\n",
    "p1"
   ]
  },
  {
   "cell_type": "code",
   "execution_count": 40,
   "id": "7d2eeb85",
   "metadata": {
    "scrolled": true
   },
   "outputs": [
    {
     "data": {
      "text/html": [
       "<div>\n",
       "<style scoped>\n",
       "    .dataframe tbody tr th:only-of-type {\n",
       "        vertical-align: middle;\n",
       "    }\n",
       "\n",
       "    .dataframe tbody tr th {\n",
       "        vertical-align: top;\n",
       "    }\n",
       "\n",
       "    .dataframe thead th {\n",
       "        text-align: right;\n",
       "    }\n",
       "</style>\n",
       "<table border=\"1\" class=\"dataframe\">\n",
       "  <thead>\n",
       "    <tr style=\"text-align: right;\">\n",
       "      <th></th>\n",
       "      <th>user</th>\n",
       "      <th>dayofweek</th>\n",
       "      <th>age</th>\n",
       "      <th>numscreens</th>\n",
       "      <th>minigame</th>\n",
       "      <th>used_premium_feature</th>\n",
       "      <th>enrolled</th>\n",
       "      <th>liked</th>\n",
       "    </tr>\n",
       "  </thead>\n",
       "  <tbody>\n",
       "    <tr>\n",
       "      <th>user</th>\n",
       "      <td>1.000000</td>\n",
       "      <td>-0.002620</td>\n",
       "      <td>-0.003481</td>\n",
       "      <td>0.000058</td>\n",
       "      <td>0.006556</td>\n",
       "      <td>0.004130</td>\n",
       "      <td>-0.000519</td>\n",
       "      <td>0.007473</td>\n",
       "    </tr>\n",
       "    <tr>\n",
       "      <th>dayofweek</th>\n",
       "      <td>-0.002620</td>\n",
       "      <td>1.000000</td>\n",
       "      <td>-0.012326</td>\n",
       "      <td>0.007925</td>\n",
       "      <td>-0.008631</td>\n",
       "      <td>0.001439</td>\n",
       "      <td>0.011326</td>\n",
       "      <td>-0.005737</td>\n",
       "    </tr>\n",
       "    <tr>\n",
       "      <th>age</th>\n",
       "      <td>-0.003481</td>\n",
       "      <td>-0.012326</td>\n",
       "      <td>1.000000</td>\n",
       "      <td>-0.128739</td>\n",
       "      <td>0.019745</td>\n",
       "      <td>0.004301</td>\n",
       "      <td>-0.131303</td>\n",
       "      <td>-0.002593</td>\n",
       "    </tr>\n",
       "    <tr>\n",
       "      <th>numscreens</th>\n",
       "      <td>0.000058</td>\n",
       "      <td>0.007925</td>\n",
       "      <td>-0.128739</td>\n",
       "      <td>1.000000</td>\n",
       "      <td>0.041154</td>\n",
       "      <td>0.061972</td>\n",
       "      <td>0.209457</td>\n",
       "      <td>-0.007349</td>\n",
       "    </tr>\n",
       "    <tr>\n",
       "      <th>minigame</th>\n",
       "      <td>0.006556</td>\n",
       "      <td>-0.008631</td>\n",
       "      <td>0.019745</td>\n",
       "      <td>0.041154</td>\n",
       "      <td>1.000000</td>\n",
       "      <td>0.108780</td>\n",
       "      <td>0.104979</td>\n",
       "      <td>-0.012250</td>\n",
       "    </tr>\n",
       "    <tr>\n",
       "      <th>used_premium_feature</th>\n",
       "      <td>0.004130</td>\n",
       "      <td>0.001439</td>\n",
       "      <td>0.004301</td>\n",
       "      <td>0.061972</td>\n",
       "      <td>0.108780</td>\n",
       "      <td>1.000000</td>\n",
       "      <td>-0.052703</td>\n",
       "      <td>0.001690</td>\n",
       "    </tr>\n",
       "    <tr>\n",
       "      <th>enrolled</th>\n",
       "      <td>-0.000519</td>\n",
       "      <td>0.011326</td>\n",
       "      <td>-0.131303</td>\n",
       "      <td>0.209457</td>\n",
       "      <td>0.104979</td>\n",
       "      <td>-0.052703</td>\n",
       "      <td>1.000000</td>\n",
       "      <td>-0.007022</td>\n",
       "    </tr>\n",
       "    <tr>\n",
       "      <th>liked</th>\n",
       "      <td>0.007473</td>\n",
       "      <td>-0.005737</td>\n",
       "      <td>-0.002593</td>\n",
       "      <td>-0.007349</td>\n",
       "      <td>-0.012250</td>\n",
       "      <td>0.001690</td>\n",
       "      <td>-0.007022</td>\n",
       "      <td>1.000000</td>\n",
       "    </tr>\n",
       "  </tbody>\n",
       "</table>\n",
       "</div>"
      ],
      "text/plain": [
       "                          user  dayofweek       age  numscreens  minigame  \\\n",
       "user                  1.000000  -0.002620 -0.003481    0.000058  0.006556   \n",
       "dayofweek            -0.002620   1.000000 -0.012326    0.007925 -0.008631   \n",
       "age                  -0.003481  -0.012326  1.000000   -0.128739  0.019745   \n",
       "numscreens            0.000058   0.007925 -0.128739    1.000000  0.041154   \n",
       "minigame              0.006556  -0.008631  0.019745    0.041154  1.000000   \n",
       "used_premium_feature  0.004130   0.001439  0.004301    0.061972  0.108780   \n",
       "enrolled             -0.000519   0.011326 -0.131303    0.209457  0.104979   \n",
       "liked                 0.007473  -0.005737 -0.002593   -0.007349 -0.012250   \n",
       "\n",
       "                      used_premium_feature  enrolled     liked  \n",
       "user                              0.004130 -0.000519  0.007473  \n",
       "dayofweek                         0.001439  0.011326 -0.005737  \n",
       "age                               0.004301 -0.131303 -0.002593  \n",
       "numscreens                        0.061972  0.209457 -0.007349  \n",
       "minigame                          0.108780  0.104979 -0.012250  \n",
       "used_premium_feature              1.000000 -0.052703  0.001690  \n",
       "enrolled                         -0.052703  1.000000 -0.007022  \n",
       "liked                             0.001690 -0.007022  1.000000  "
      ]
     },
     "execution_count": 40,
     "metadata": {},
     "output_type": "execute_result"
    }
   ],
   "source": [
    "#correlation matrix\n",
    "df.corr()"
   ]
  },
  {
   "cell_type": "code",
   "execution_count": 41,
   "id": "4d86fdc3",
   "metadata": {},
   "outputs": [
    {
     "data": {
      "text/plain": [
       "-0.1287392093331198"
      ]
     },
     "execution_count": 41,
     "metadata": {},
     "output_type": "execute_result"
    }
   ],
   "source": [
    "df['age'].corr(df['numscreens'])"
   ]
  },
  {
   "cell_type": "code",
   "execution_count": 42,
   "id": "148b04ce",
   "metadata": {},
   "outputs": [
    {
     "data": {
      "text/plain": [
       "<AxesSubplot:>"
      ]
     },
     "execution_count": 42,
     "metadata": {},
     "output_type": "execute_result"
    },
    {
     "data": {
      "image/png": "[encoded data removed]",
      "text/plain": [
       "<Figure size 432x288 with 1 Axes>"
      ]
     },
     "metadata": {
      "needs_background": "light"
     },
     "output_type": "display_data"
    }
   ],
   "source": [
    "df['age'].hist()"
   ]
  },
  {
   "cell_type": "code",
   "execution_count": 45,
   "id": "3c1f6b6e",
   "metadata": {},
   "outputs": [],
   "source": [
    "data=np.log(df['age'])"
   ]
  },
  {
   "cell_type": "code",
   "execution_count": 47,
   "id": "9314c627",
   "metadata": {},
   "outputs": [
    {
     "data": {
      "text/plain": [
       "<AxesSubplot:>"
      ]
     },
     "execution_count": 47,
     "metadata": {},
     "output_type": "execute_result"
    },
    {
     "data": {
      "image/png": "[encoded data removed]",
      "text/plain": [
       "<Figure size 432x288 with 1 Axes>"
      ]
     },
     "metadata": {
      "needs_background": "light"
     },
     "output_type": "display_data"
    }
   ],
   "source": [
    "data.hist()"
   ]
  },
  {
   "cell_type": "code",
   "execution_count": 49,
   "id": "57a46622",
   "metadata": {},
   "outputs": [],
   "source": [
    "value1, value2=np.log([500,1000])"
   ]
  },
  {
   "cell_type": "code",
   "execution_count": 51,
   "id": "51321140",
   "metadata": {},
   "outputs": [],
   "source": [
    "data2=list(data)"
   ]
  },
  {
   "cell_type": "code",
   "execution_count": 53,
   "id": "5c6bf0af",
   "metadata": {},
   "outputs": [],
   "source": [
    "data2.append(value1)\n",
    "data2.append(value2)"
   ]
  },
  {
   "cell_type": "code",
   "execution_count": 55,
   "id": "8635773e",
   "metadata": {},
   "outputs": [],
   "source": [
    "mean=data.mean()\n",
    "std=data.std()\n",
    "outlier=[]\n",
    "threshold=3\n",
    "for i in data2:\n",
    "    z=(i-mean)/std\n",
    "    if z>threshold:\n",
    "        outlier.append(i)"
   ]
  },
  {
   "cell_type": "code",
   "execution_count": 57,
   "id": "9e927a88",
   "metadata": {},
   "outputs": [
    {
     "data": {
      "text/plain": [
       "[4.499809670330265,\n",
       " 4.48863636973214,\n",
       " 4.454347296253507,\n",
       " 4.382026634673881,\n",
       " 4.406719247264253,\n",
       " 4.3694478524670215,\n",
       " 4.382026634673881,\n",
       " 4.499809670330265,\n",
       " 4.406719247264253,\n",
       " 4.465908118654584,\n",
       " 4.394449154672439,\n",
       " 4.442651256490317,\n",
       " 4.61512051684126,\n",
       " 4.477336814478207,\n",
       " 4.418840607796598,\n",
       " 4.605170185988092,\n",
       " 4.394449154672439,\n",
       " 4.465908118654584,\n",
       " 4.430816798843313,\n",
       " 4.430816798843313,\n",
       " 4.442651256490317,\n",
       " 4.454347296253507,\n",
       " 4.406719247264253,\n",
       " 4.418840607796598,\n",
       " 4.394449154672439,\n",
       " 4.499809670330265,\n",
       " 4.465908118654584,\n",
       " 4.454347296253507,\n",
       " 4.394449154672439,\n",
       " 4.442651256490317,\n",
       " 4.465908118654584,\n",
       " 4.48863636973214,\n",
       " 4.382026634673881,\n",
       " 4.430816798843313,\n",
       " 4.465908118654584,\n",
       " 4.605170185988092,\n",
       " 4.418840607796598,\n",
       " 4.394449154672439,\n",
       " 4.382026634673881,\n",
       " 4.394449154672439,\n",
       " 4.584967478670572,\n",
       " 4.394449154672439,\n",
       " 6.214608098422191,\n",
       " 6.907755278982137,\n",
       " 6.214608098422191,\n",
       " 6.907755278982137]"
      ]
     },
     "execution_count": 57,
     "metadata": {},
     "output_type": "execute_result"
    }
   ],
   "source": [
    "outlier"
   ]
  },
  {
   "cell_type": "code",
   "execution_count": 58,
   "id": "2a0b8347",
   "metadata": {},
   "outputs": [
    {
     "data": {
      "text/plain": [
       "array([  90.,   89.,   86.,   80.,   82.,   79.,   80.,   90.,   82.,\n",
       "         87.,   81.,   85.,  101.,   88.,   83.,  100.,   81.,   87.,\n",
       "         84.,   84.,   85.,   86.,   82.,   83.,   81.,   90.,   87.,\n",
       "         86.,   81.,   85.,   87.,   89.,   80.,   84.,   87.,  100.,\n",
       "         83.,   81.,   80.,   81.,   98.,   81.,  500., 1000.,  500.,\n",
       "       1000.])"
      ]
     },
     "execution_count": 58,
     "metadata": {},
     "output_type": "execute_result"
    }
   ],
   "source": [
    "original=np.exp(outlier)\n",
    "original"
   ]
  }
 ],
 "metadata": {
  "kernelspec": {
   "display_name": "Python 3 (ipykernel)",
   "language": "python",
   "name": "python3"
  },
  "language_info": {
   "codemirror_mode": {
    "name": "ipython",
    "version": 3
   },
   "file_extension": ".py",
   "mimetype": "text/x-python",
   "name": "python",
   "nbconvert_exporter": "python",
   "pygments_lexer": "ipython3",
   "version": "3.9.12"
  }
 },
 "nbformat": 4,
 "nbformat_minor": 5
}
